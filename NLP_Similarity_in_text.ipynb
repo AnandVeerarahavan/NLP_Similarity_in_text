{
  "nbformat": 4,
  "nbformat_minor": 0,
  "metadata": {
    "colab": {
      "name": "NLP_Similarity in text.ipynb",
      "provenance": []
    },
    "kernelspec": {
      "name": "python3",
      "display_name": "Python 3"
    },
    "language_info": {
      "name": "python"
    }
  },
  "cells": [
    {
      "cell_type": "markdown",
      "metadata": {
        "id": "jx1wUo3YSvCc"
      },
      "source": [
        "**Author : Anand Veerarahavan**\n",
        "\n"
      ]
    },
    {
      "cell_type": "markdown",
      "metadata": {
        "id": "CIhfrFXAVkJw"
      },
      "source": [
        "**STRING SIMILARITY**"
      ]
    },
    {
      "cell_type": "markdown",
      "metadata": {
        "id": "YXf0gIpIVtVl"
      },
      "source": [
        "**Using simple sequence matching**"
      ]
    },
    {
      "cell_type": "code",
      "metadata": {
        "colab": {
          "base_uri": "https://localhost:8080/"
        },
        "id": "qscuUtamSj31",
        "outputId": "a3561e63-2246-4840-e3a4-1abe927dbe03"
      },
      "source": [
        "from difflib import SequenceMatcher\n",
        "\n",
        "def similar(a,b):\n",
        "  return SequenceMatcher(None, a, b).ratio()\n",
        "\n",
        "similar(\"route\", \"root\")"
      ],
      "execution_count": 1,
      "outputs": [
        {
          "output_type": "execute_result",
          "data": {
            "text/plain": [
              "0.6666666666666666"
            ]
          },
          "metadata": {},
          "execution_count": 1
        }
      ]
    },
    {
      "cell_type": "code",
      "metadata": {
        "colab": {
          "base_uri": "https://localhost:8080/"
        },
        "id": "4xIdkG45WKVL",
        "outputId": "dcd930a5-7444-404c-cf81-0697cc2c1891"
      },
      "source": [
        "similar(\"groot\", \"root\")"
      ],
      "execution_count": 2,
      "outputs": [
        {
          "output_type": "execute_result",
          "data": {
            "text/plain": [
              "0.8888888888888888"
            ]
          },
          "metadata": {},
          "execution_count": 2
        }
      ]
    },
    {
      "cell_type": "code",
      "metadata": {
        "colab": {
          "base_uri": "https://localhost:8080/"
        },
        "id": "EpYWl3WRWP3v",
        "outputId": "40a8791f-7790-42c2-c4ac-6dddd7cf4b85"
      },
      "source": [
        "similar(\"man\",\"deep\")"
      ],
      "execution_count": 3,
      "outputs": [
        {
          "output_type": "execute_result",
          "data": {
            "text/plain": [
              "0.0"
            ]
          },
          "metadata": {},
          "execution_count": 3
        }
      ]
    },
    {
      "cell_type": "code",
      "metadata": {
        "colab": {
          "base_uri": "https://localhost:8080/"
        },
        "id": "w89D30O3WU5m",
        "outputId": "f81fb573-d701-4f21-80a5-56034470e7cb"
      },
      "source": [
        "similar(\"good\", \"nice\")"
      ],
      "execution_count": 4,
      "outputs": [
        {
          "output_type": "execute_result",
          "data": {
            "text/plain": [
              "0.0"
            ]
          },
          "metadata": {},
          "execution_count": 4
        }
      ]
    },
    {
      "cell_type": "markdown",
      "metadata": {
        "id": "3PL1rwV5WcpC"
      },
      "source": [
        "**Problems**\n",
        "\n",
        "1. The above example only matches words based on their sequence and not the meaning of the words\n",
        "\n",
        "2. Therefore it is difficult to find a set of words with the same meaning and different spellings.\n",
        "Example : \"Good\" and \"Nice\" both mean the same"
      ]
    },
    {
      "cell_type": "markdown",
      "metadata": {
        "id": "QhvRD0TPWxTm"
      },
      "source": [
        "**Cosine Similarity**"
      ]
    },
    {
      "cell_type": "markdown",
      "metadata": {
        "id": "OkXEID-OW0Ub"
      },
      "source": [
        "This is why we use a technique called cosine similarity.\n",
        "\n",
        "Cosine similarity is a measure of similarity between two non-zero vectors of an inner product space that measures the cosine of the angle between them. "
      ]
    },
    {
      "cell_type": "markdown",
      "metadata": {
        "id": "vWbTloYFXVKh"
      },
      "source": [
        "![alt text](https://i2.wp.com/dataaspirant.com/wp-content/uploads/2015/04/cosine.png)"
      ]
    },
    {
      "cell_type": "markdown",
      "metadata": {
        "id": "Iju7e0TtXifB"
      },
      "source": [
        "![alt text](https://datascience-enthusiast.com/figures/cosine_sim.png)"
      ]
    },
    {
      "cell_type": "code",
      "metadata": {
        "id": "AhBlRuo7XKDG"
      },
      "source": [
        "# dummy code\n",
        "def cosine_similarity(u, v):\n",
        "    \"\"\"\n",
        "    Cosine similarity reflects the degree of similariy between u and v\n",
        "        \n",
        "    Arguments:\n",
        "        u -- a word vector of shape (n,)          \n",
        "        v -- a word vector of shape (n,)\n",
        "\n",
        "    Returns:\n",
        "        cosine_similarity -- the cosine similarity between u and v defined by the formula above.\n",
        "    \"\"\"\n",
        "    \n",
        "    distance = 0.0\n",
        "    \n",
        "    ### START CODE HERE ###\n",
        "    # Compute the dot product between u and v (≈1 line)\n",
        "    dot = np.dot(u, v)\n",
        "    # Compute the L2 norm of u (≈1 line)\n",
        "    norm_u = np.sqrt(np.sum(u**2))\n",
        "    \n",
        "    # Compute the L2 norm of v (≈1 line)\n",
        "    norm_v = np.sqrt(np.sum(v**2))\n",
        "    # Compute the cosine similarity defined by formula (1) (≈1 line)\n",
        "    cosine_similarity = dot / np.dot(norm_u, norm_v)\n",
        "    ### END CODE HERE ###\n",
        "    \n",
        "    return cosine_similarity"
      ],
      "execution_count": 7,
      "outputs": []
    },
    {
      "cell_type": "code",
      "metadata": {
        "colab": {
          "base_uri": "https://localhost:8080/"
        },
        "id": "beeTCRgnXnE8",
        "outputId": "96304678-9f5b-440f-d2d3-a24042e9e32a"
      },
      "source": [
        "import re, math\n",
        "from collections import Counter\n",
        "\n",
        "WORD = re.compile(r'\\w+')\n",
        "\n",
        "def get_cosine(vec1, vec2):\n",
        "     intersection = set(vec1.keys()) & set(vec2.keys())\n",
        "     numerator = sum([vec1[x] * vec2[x] for x in intersection])\n",
        "\n",
        "     sum1 = sum([vec1[x]**2 for x in vec1.keys()])\n",
        "     sum2 = sum([vec2[x]**2 for x in vec2.keys()])\n",
        "     denominator = math.sqrt(sum1) * math.sqrt(sum2)\n",
        "\n",
        "     if not denominator:\n",
        "        return 0.0\n",
        "     else:\n",
        "        return float(numerator) / denominator\n",
        "\n",
        "def text_to_vector(text):\n",
        "     words = WORD.findall(text)\n",
        "     return Counter(words)\n",
        "\n",
        "s1 = \"This is a bar.\"\n",
        "s2 = \"A Pub is similar to a bar.\"\n",
        "s3 = \"Totally not related to the other two lines .\"\n",
        "\n",
        "vector1 = text_to_vector(s1)\n",
        "print(vector1)\n",
        "vector2 = text_to_vector(s2)\n",
        "vector3 = text_to_vector(s3)\n",
        "cosine1 = get_cosine(vector1, vector2)\n",
        "cosine2 = get_cosine(vector2, vector3)\n",
        "print ('Cosine_01:', cosine1)\n",
        "print ('Cosine_02:', cosine2)"
      ],
      "execution_count": 9,
      "outputs": [
        {
          "output_type": "stream",
          "name": "stdout",
          "text": [
            "Counter({'This': 1, 'is': 1, 'a': 1, 'bar': 1})\n",
            "Cosine_01: 0.5669467095138409\n",
            "Cosine_02: 0.13363062095621217\n"
          ]
        }
      ]
    },
    {
      "cell_type": "code",
      "metadata": {
        "colab": {
          "base_uri": "https://localhost:8080/"
        },
        "id": "jnuGBEPXXp6r",
        "outputId": "8ea81d42-de0b-45f7-a350-23d658485655"
      },
      "source": [
        "from sklearn.metrics.pairwise import cosine_distances,cosine_similarity\n",
        "import numpy as np\n",
        "\n",
        "dog = np.asarray([[1.2, 0.9, 1.45]])\n",
        "cat = np.asarray([[1.1, 0.1, 1.1 ]])\n",
        "mouse = np.asarray([[0.1, -0.9, 0.01]])\n",
        "\n",
        "print (cosine_similarity(dog,cat))\n",
        "print (cosine_similarity(cat,mouse))\n",
        "print (cosine_distances(mouse,dog))"
      ],
      "execution_count": 10,
      "outputs": [
        {
          "output_type": "stream",
          "name": "stdout",
          "text": [
            "[[0.92399995]]\n",
            "[[0.02195964]]\n",
            "[[1.35753829]]\n"
          ]
        }
      ]
    },
    {
      "cell_type": "markdown",
      "metadata": {
        "id": "OafwW8SgYKeD"
      },
      "source": [
        "### Levenshtein Distance\n",
        "\n",
        "The Levenshtein distance between two words is the minimum number of single-character edits (insertions, deletions or substitutions) required to change one word into the other."
      ]
    },
    {
      "cell_type": "code",
      "metadata": {
        "id": "scqMmmVYYB-b"
      },
      "source": [
        "cities = {\"Pittsburgh\":\"Pennsylvania\",\n",
        "          \"Tucson\":\"Arizona\",\n",
        "          \"Cincinnati\":\"Ohio\",\n",
        "          \"Albuquerque\":\"New Mexico\",\n",
        "          \"Culpeper\":\"Virginia\",\n",
        "          \"Asheville\":\"North Carolina\",\n",
        "          \"Worcester\":\"Massachusetts\",\n",
        "          \"Manhattan\":\"New York\",\n",
        "          \"Phoenix\":\"Arizona\",\n",
        "          \"Niagara Falls\":\"New York\"} "
      ],
      "execution_count": 11,
      "outputs": []
    },
    {
      "cell_type": "code",
      "metadata": {
        "colab": {
          "base_uri": "https://localhost:8080/"
        },
        "id": "09qlPEJfYVCi",
        "outputId": "b57caf53-a3a4-47a6-eb1c-1ef3c2463981"
      },
      "source": [
        "# Insertion of a single symbol. This means that we add a character to a string s. \n",
        "# Example: If we have the string s = \"Manhatan\", we can insert the character \"t\" to get the correct spelling\n",
        "\n",
        "s = \"Manhatan\"\n",
        "s = s[:5] + \"t\" + s[5:]\n",
        "print(s)"
      ],
      "execution_count": 12,
      "outputs": [
        {
          "output_type": "stream",
          "name": "stdout",
          "text": [
            "Manhattan\n"
          ]
        }
      ]
    },
    {
      "cell_type": "code",
      "metadata": {
        "colab": {
          "base_uri": "https://localhost:8080/"
        },
        "id": "OknIyJ_JYZMK",
        "outputId": "8cfc6ea0-548b-43be-a20f-bfe0f1cfcf42"
      },
      "source": [
        "# Deletion of a single symbol\n",
        "\n",
        "s = \"Mannhattan\"\n",
        "s = s[:2] + s[3:]\n",
        "print(s)"
      ],
      "execution_count": 13,
      "outputs": [
        {
          "output_type": "stream",
          "name": "stdout",
          "text": [
            "Manhattan\n"
          ]
        }
      ]
    },
    {
      "cell_type": "code",
      "metadata": {
        "colab": {
          "base_uri": "https://localhost:8080/",
          "height": 35
        },
        "id": "AMM40LQXYb_b",
        "outputId": "e7e16d5f-4cc9-4eab-b9d9-4f30cecd6d16"
      },
      "source": [
        "# Substitution of a single symbol In the following example, we have to change the letter \"o\" into the letter \"a\" to get the correct spelling\n",
        "\n",
        "s = \"Manhatton\"\n",
        "s = s[:7] + \"a\" + s[8:]\n",
        "s"
      ],
      "execution_count": 14,
      "outputs": [
        {
          "output_type": "execute_result",
          "data": {
            "application/vnd.google.colaboratory.intrinsic+json": {
              "type": "string"
            },
            "text/plain": [
              "'Manhattan'"
            ]
          },
          "metadata": {},
          "execution_count": 14
        }
      ]
    },
    {
      "cell_type": "code",
      "metadata": {
        "colab": {
          "base_uri": "https://localhost:8080/"
        },
        "id": "teCe2-rTYdkC",
        "outputId": "6470f485-2c8c-4fec-97e3-be06c8533a59"
      },
      "source": [
        "\"\"\"\n",
        "The minimum edit distance between the two strings \"Mannhaton\" and \"Manhattan\" \n",
        "corresponds to the value 3, as we need three basic editing operation to transform\n",
        "the first one into the second one\n",
        "\"\"\"\n",
        "s = \"Mannhaton\"\n",
        "s = s[:2] + s[3:]         # deletion\n",
        "print(s)\n",
        "\n",
        "s = s[:5] + \"t\" + s[5:]   # insertion\n",
        "print(s)\n",
        "\n",
        "s = s[:7] + \"a\" + s[8:]   # substitution\n",
        "print(s)"
      ],
      "execution_count": 15,
      "outputs": [
        {
          "output_type": "stream",
          "name": "stdout",
          "text": [
            "Manhaton\n",
            "Manhatton\n",
            "Manhattan\n"
          ]
        }
      ]
    },
    {
      "cell_type": "markdown",
      "metadata": {
        "id": "J09HkpqLYmBe"
      },
      "source": [
        "The Levenshtein distance has the following properties:\n",
        "\n",
        "* It is zero if and only if the strings are equal.\n",
        "* It is at least the difference of the sizes of the two strings.\n",
        "* It is at most the length of the longer string.\n",
        "* Triangle inequality: The Levenshtein distance between two strings is no greater than the sum of their Levenshtein distances from a third string.\n"
      ]
    },
    {
      "cell_type": "code",
      "metadata": {
        "colab": {
          "base_uri": "https://localhost:8080/"
        },
        "id": "c-Q_QS68Ygoi",
        "outputId": "e5ba9737-43a8-44f3-9338-bac77540188e"
      },
      "source": [
        "# recursive implementation of LD\n",
        "def LD(s, t):\n",
        "    if s == \"\":\n",
        "        return len(t)\n",
        "    if t == \"\":\n",
        "        return len(s)\n",
        "    if s[-1] == t[-1]:\n",
        "        cost = 0\n",
        "    else:\n",
        "        cost = 1\n",
        "       \n",
        "    res = min([LD(s[:-1], t)+1,\n",
        "               LD(s, t[:-1])+1, \n",
        "               LD(s[:-1], t[:-1]) + cost])\n",
        "    return res\n",
        "print(LD(\"Python\", \"Peithen\"))"
      ],
      "execution_count": 16,
      "outputs": [
        {
          "output_type": "stream",
          "name": "stdout",
          "text": [
            "3\n"
          ]
        }
      ]
    },
    {
      "cell_type": "code",
      "metadata": {
        "colab": {
          "base_uri": "https://localhost:8080/"
        },
        "id": "cqmt8z0mYox7",
        "outputId": "71bf60cf-832f-4637-cbb8-a1b765dd1a2e"
      },
      "source": [
        "def iterative_levenshtein(s, t):\n",
        "    \"\"\" \n",
        "        iterative_levenshtein(s, t) -> ldist\n",
        "        ldist is the Levenshtein distance between the strings \n",
        "        s and t.\n",
        "        For all i and j, dist[i,j] will contain the Levenshtein \n",
        "        distance between the first i characters of s and the \n",
        "        first j characters of t\n",
        "    \"\"\"\n",
        "    rows = len(s)+1\n",
        "    cols = len(t)+1\n",
        "    dist = [[0 for x in range(cols)] for x in range(rows)]\n",
        "    # source prefixes can be transformed into empty strings \n",
        "    # by deletions:\n",
        "    for i in range(1, rows):\n",
        "        dist[i][0] = i\n",
        "    # target prefixes can be created from an empty source string\n",
        "    # by inserting the characters\n",
        "    for i in range(1, cols):\n",
        "        dist[0][i] = i\n",
        "        \n",
        "    for col in range(1, cols):\n",
        "        for row in range(1, rows):\n",
        "            if s[row-1] == t[col-1]:\n",
        "                cost = 0\n",
        "            else:\n",
        "                cost = 1\n",
        "            dist[row][col] = min(dist[row-1][col] + 1,      # deletion\n",
        "                                 dist[row][col-1] + 1,      # insertion\n",
        "                                 dist[row-1][col-1] + cost) # substitution\n",
        "    for r in range(rows):\n",
        "        print(dist[r])\n",
        "    \n",
        " \n",
        "    return dist[row][col]\n",
        "print(iterative_levenshtein(\"flaw\", \"lawn\"))"
      ],
      "execution_count": 17,
      "outputs": [
        {
          "output_type": "stream",
          "name": "stdout",
          "text": [
            "[0, 1, 2, 3, 4]\n",
            "[1, 1, 2, 3, 4]\n",
            "[2, 1, 2, 3, 4]\n",
            "[3, 2, 1, 2, 3]\n",
            "[4, 3, 2, 1, 2]\n",
            "2\n"
          ]
        }
      ]
    },
    {
      "cell_type": "code",
      "metadata": {
        "colab": {
          "base_uri": "https://localhost:8080/"
        },
        "id": "rO1Zqb2IYs84",
        "outputId": "8f74c910-767d-4d95-ee97-893597e2a173"
      },
      "source": [
        "print(iterative_levenshtein(\"Manhattan\", \"Manahaton\"))"
      ],
      "execution_count": 18,
      "outputs": [
        {
          "output_type": "stream",
          "name": "stdout",
          "text": [
            "[0, 1, 2, 3, 4, 5, 6, 7, 8, 9]\n",
            "[1, 0, 1, 2, 3, 4, 5, 6, 7, 8]\n",
            "[2, 1, 0, 1, 2, 3, 4, 5, 6, 7]\n",
            "[3, 2, 1, 0, 1, 2, 3, 4, 5, 6]\n",
            "[4, 3, 2, 1, 1, 1, 2, 3, 4, 5]\n",
            "[5, 4, 3, 2, 1, 2, 1, 2, 3, 4]\n",
            "[6, 5, 4, 3, 2, 2, 2, 1, 2, 3]\n",
            "[7, 6, 5, 4, 3, 3, 3, 2, 2, 3]\n",
            "[8, 7, 6, 5, 4, 4, 3, 3, 3, 3]\n",
            "[9, 8, 7, 6, 5, 5, 4, 4, 4, 3]\n",
            "3\n"
          ]
        }
      ]
    },
    {
      "cell_type": "code",
      "metadata": {
        "colab": {
          "base_uri": "https://localhost:8080/"
        },
        "id": "bCcEWO2jYw56",
        "outputId": "06f96c78-d91d-46df-e1e0-5421d36c4d94"
      },
      "source": [
        "! pip install python-Levenshtein"
      ],
      "execution_count": 19,
      "outputs": [
        {
          "output_type": "stream",
          "name": "stdout",
          "text": [
            "Collecting python-Levenshtein\n",
            "  Downloading python-Levenshtein-0.12.2.tar.gz (50 kB)\n",
            "\u001b[?25l\r\u001b[K     |██████▌                         | 10 kB 28.8 MB/s eta 0:00:01\r\u001b[K     |█████████████                   | 20 kB 20.5 MB/s eta 0:00:01\r\u001b[K     |███████████████████▌            | 30 kB 15.7 MB/s eta 0:00:01\r\u001b[K     |██████████████████████████      | 40 kB 13.6 MB/s eta 0:00:01\r\u001b[K     |████████████████████████████████| 50 kB 3.6 MB/s \n",
            "\u001b[?25hRequirement already satisfied: setuptools in /usr/local/lib/python3.7/dist-packages (from python-Levenshtein) (57.4.0)\n",
            "Building wheels for collected packages: python-Levenshtein\n",
            "  Building wheel for python-Levenshtein (setup.py) ... \u001b[?25l\u001b[?25hdone\n",
            "  Created wheel for python-Levenshtein: filename=python_Levenshtein-0.12.2-cp37-cp37m-linux_x86_64.whl size=149862 sha256=7a80c9f983727182490e780942bdb344231ec37b14d543405aff3ae11684a908\n",
            "  Stored in directory: /root/.cache/pip/wheels/05/5f/ca/7c4367734892581bb5ff896f15027a932c551080b2abd3e00d\n",
            "Successfully built python-Levenshtein\n",
            "Installing collected packages: python-Levenshtein\n",
            "Successfully installed python-Levenshtein-0.12.2\n"
          ]
        }
      ]
    },
    {
      "cell_type": "code",
      "metadata": {
        "colab": {
          "base_uri": "https://localhost:8080/"
        },
        "id": "VpJzHhjKYzQI",
        "outputId": "530ea4d6-dd69-4dac-9189-f407a65e9220"
      },
      "source": [
        "import Levenshtein\n",
        "\n",
        "\"\"\"\n",
        "distance(string1, string2)\n",
        "Compute absolute Levenshtein distance of two strings\n",
        "\n",
        "\"\"\"\n",
        "Levenshtein.distance(\"Exxon\", \"Exam\")"
      ],
      "execution_count": 20,
      "outputs": [
        {
          "output_type": "execute_result",
          "data": {
            "text/plain": [
              "3"
            ]
          },
          "metadata": {},
          "execution_count": 20
        }
      ]
    },
    {
      "cell_type": "code",
      "metadata": {
        "colab": {
          "base_uri": "https://localhost:8080/"
        },
        "id": "aJQbOEZTY3rg",
        "outputId": "6c31aa70-c8ce-4bb5-f5e7-c8f60df99cb5"
      },
      "source": [
        "Levenshtein.distance('Levenshtein', 'Lenvinsten')"
      ],
      "execution_count": 21,
      "outputs": [
        {
          "output_type": "execute_result",
          "data": {
            "text/plain": [
              "4"
            ]
          },
          "metadata": {},
          "execution_count": 21
        }
      ]
    },
    {
      "cell_type": "markdown",
      "metadata": {
        "id": "x9uYebTbY7_V"
      },
      "source": [
        "# Median function\n",
        "\n",
        "median(string_sequence[, weight_sequence])\n",
        "Find an approximate generalized median string using greedy algorithm.\n",
        "\n",
        "You can optionally pass a weight for each string as the second argument. \n",
        "The weights are interpreted as item multiplicities, \n",
        "although any non-negative real numbers are accepted. \n",
        "Use them to improve computation speed when strings often appear multiple times in the sequence.\n"
      ]
    },
    {
      "cell_type": "code",
      "metadata": {
        "colab": {
          "base_uri": "https://localhost:8080/",
          "height": 35
        },
        "id": "Zm_zkVItY5Ow",
        "outputId": "a45b5061-3504-4baf-c780-b2890c6acabf"
      },
      "source": [
        "Levenshtein.median(['SpSm', 'mpamm', 'Spam', 'Spa', 'Sua', 'hSam'])"
      ],
      "execution_count": 22,
      "outputs": [
        {
          "output_type": "execute_result",
          "data": {
            "application/vnd.google.colaboratory.intrinsic+json": {
              "type": "string"
            },
            "text/plain": [
              "'Spam'"
            ]
          },
          "metadata": {},
          "execution_count": 22
        }
      ]
    },
    {
      "cell_type": "code",
      "metadata": {
        "colab": {
          "base_uri": "https://localhost:8080/",
          "height": 35
        },
        "id": "jJuj3ODFZASP",
        "outputId": "e0178505-fa55-41ee-f9fe-601c7529a1c8"
      },
      "source": [
        "fixme = ['Levnhtein', 'Leveshein', 'Leenshten',\n",
        "...          'Leveshtei', 'Lenshtein', 'Lvenstein',\n",
        "...          'Levenhtin', 'evenshtei']\n",
        "Levenshtein.median(fixme)"
      ],
      "execution_count": 23,
      "outputs": [
        {
          "output_type": "execute_result",
          "data": {
            "application/vnd.google.colaboratory.intrinsic+json": {
              "type": "string"
            },
            "text/plain": [
              "'Levenshtein'"
            ]
          },
          "metadata": {},
          "execution_count": 23
        }
      ]
    },
    {
      "cell_type": "code",
      "metadata": {
        "colab": {
          "base_uri": "https://localhost:8080/",
          "height": 35
        },
        "id": "4zg2SPoTZGUl",
        "outputId": "0b5f7068-660f-4860-c14b-33664dd7eb61"
      },
      "source": [
        "# fixme = [\"beer\", \"bear\",\"beare\",\"beere\",\"beeri\",\"beire\", \"beer\"]\n",
        "fixme = [\"beer\", \"bear\",\"beire\",\"beare\",\"beaer\",\"beiare\", \"beea\"]\n",
        "Levenshtein.median(fixme)"
      ],
      "execution_count": 24,
      "outputs": [
        {
          "output_type": "execute_result",
          "data": {
            "application/vnd.google.colaboratory.intrinsic+json": {
              "type": "string"
            },
            "text/plain": [
              "'bear'"
            ]
          },
          "metadata": {},
          "execution_count": 24
        }
      ]
    },
    {
      "cell_type": "markdown",
      "metadata": {
        "id": "0IY1mEoXZKKw"
      },
      "source": [
        "The Levenshtein distance algorithm has been used in:\n",
        "\n",
        "* Spell checking\n",
        "* Speech recognition\n",
        "* DNA analysis\n",
        "* Plagiarism detection\n",
        "\n",
        "amongst other applications."
      ]
    }
  ]
}